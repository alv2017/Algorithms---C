{
 "cells": [
  {
   "cell_type": "markdown",
   "metadata": {},
   "source": [
    "# Recursion. How to Solve the Tower of Hanoi Problem?\n",
    "\n",
    "## 1. Introduction"
   ]
  },
  {
   "cell_type": "markdown",
   "metadata": {},
   "source": [
    "A recursive function defined as a function that calls itself to solve a smaller version of its task untils a final call is made, which does not require a call to itself. Since a recursive function repeatedly calls itself,it makes use of the system stack to temporarily store the return address and local variables of the calling function. In recursive functions, a complex problem defined in terms of smaller and more easily solvable problems"
   ]
  },
  {
   "cell_type": "markdown",
   "metadata": {},
   "source": [
    "### Example 1: Calculating factorial of a number"
   ]
  },
  {
   "cell_type": "code",
   "execution_count": 1,
   "metadata": {},
   "outputs": [
    {
     "name": "stdout",
     "output_type": "stream",
     "text": [
      "15! = 1307674368000\n"
     ]
    }
   ],
   "source": [
    "#include <stdio.h>\n",
    "\n",
    "long long factorial(int n);\n",
    "\n",
    "int main(void) {\n",
    "    int num;\n",
    "    long long res;\n",
    "    // Set a number\n",
    "    num = 15;\n",
    "    res = factorial(num);\n",
    "\n",
    "    printf(\"%d! = %lld\\n\", num, res);\n",
    "}\n",
    "\n",
    "long long factorial(int n) {\n",
    "    if (n==0){\n",
    "        return 1;\n",
    "    }\n",
    "    else {\n",
    "        return n * factorial(n-1);\n",
    "    }\n",
    "}"
   ]
  },
  {
   "cell_type": "markdown",
   "metadata": {},
   "source": [
    "### Example 2: Exponentiatiation of a number:    &emsp; $ z   = x ^ y $"
   ]
  },
  {
   "cell_type": "code",
   "execution_count": 2,
   "metadata": {},
   "outputs": [
    {
     "name": "stdout",
     "output_type": "stream",
     "text": [
      "2 ^ 8 = 256\n"
     ]
    }
   ],
   "source": [
    "#include <stdio.h>\n",
    "\n",
    "long long exp_num(int, int);\n",
    "\n",
    "int main(void) {\n",
    "    int num = 2;\n",
    "    int power = 8;\n",
    "    long long result = exp_num(num, power);\n",
    "    printf(\"%d ^ %d = %lld\\n\", num, power, result);\n",
    "    return 0;\n",
    "}\n",
    "\n",
    "\n",
    "long long exp_num(int num, int power) {\n",
    "    long long res;\n",
    "    if (power == 0) {\n",
    "        res = 1;\n",
    "    }\n",
    "    else {\n",
    "        res = num * exp_num(num, power - 1);\n",
    "    }\n",
    "    return res;\n",
    "}\n",
    "\n"
   ]
  },
  {
   "cell_type": "markdown",
   "metadata": {},
   "source": [
    "## 2. Recursive Algorithm\n",
    "\n",
    "** Step 1:** Specify a base condition that will stop the function from making a call to itself.\n",
    "\n",
    "** Step 2:** Divide the problem into smaller and simpler parts, and formulatea recursive condition.\n",
    "\n",
    "** Step 3:** Process the input value. If the base condition has been met, return the value. If not call a recursive function for the subproblem.\n",
    "\n",
    "** Step 4:** Combine the results of the subproblems.\n",
    "\n",
    "** Step 5:** Return the result that solves the entire problem.\n"
   ]
  },
  {
   "cell_type": "markdown",
   "metadata": {},
   "source": [
    "## 3. Tail Recursion"
   ]
  },
  {
   "cell_type": "markdown",
   "metadata": {},
   "source": [
    "There are three types of recursion.\n",
    "\n",
    "***Direct Recursion***<br>\n",
    "A function is said to be directly recursive if it explicitly calls itself.\n",
    "\n",
    "**Example**:\n",
    "<code>\n",
    "    int Fun(int n) {\n",
    "        if(n==0)\n",
    "            return n;\n",
    "        else\n",
    "            return Fun(n-1);\n",
    "    }\n",
    "</code>\n",
    "\n",
    "\n",
    "***Indirect Recursion***<br>\n",
    "A function is said to be indirectly recursive if it contains a call to another function which ultimately calls it.\n",
    "\n",
    "**Example**\n",
    "<code>\n",
    "    int Fun1(int n) {\n",
    "        if (n==0)\n",
    "            return 0;\n",
    "        else\n",
    "            return Fun2(n);\n",
    "    }\n",
    "</code>\n",
    "<code>    \n",
    "    int Fun2(int x) {\n",
    "        return Fun1(x-1);\n",
    "    }\n",
    "</code>\n",
    "\n",
    "***Tail Recursion***<br>\n",
    "A recursive function is said to be tail recursive if no operations are pending to be performed when the recursive function returns to its caller. When the called function returns, the returned value is immediately returned from the calling function. Tail recursive functions are highly desirable because they are much more efficient\n",
    "to use as the amount of information that has to be stored on the system stack is independent of the number of recursive calls. Let's check the examples!\n"
   ]
  },
  {
   "cell_type": "markdown",
   "metadata": {},
   "source": [
    "**Example: Non Tail Recursive Factorial Function**\n",
    "<code>\n",
    "    int Fact(int n) {\n",
    "        if (n==1)\n",
    "            return 1;\n",
    "        else \n",
    "            return n*Fact(n-1);\n",
    "    }\n",
    "</code>\n",
    "\n",
    "**Example: Tail Recursive Factorial Function**\n",
    "<code>\n",
    "    int Fact1(int n, int res) {\n",
    "        if (n==1)\n",
    "            return res;\n",
    "        else\n",
    "            return Fact1(n-1, n*res);\n",
    "    }\n",
    "</code>\n",
    "    "
   ]
  },
  {
   "cell_type": "markdown",
   "metadata": {},
   "source": [
    "## 4. The Tower of Hanoi"
   ]
  },
  {
   "cell_type": "markdown",
   "metadata": {},
   "source": [
    "And now we are ready to solve the famous Hanoi Tower problem!\n",
    "\n",
    "#### Origins\n",
    "\n",
    "The puzzle was invented by the French mathematician Édouard Lucas in 1883. The story tells that there is an ancient temple in India which contains a large room with three time-worn posts in it, surrounded by 64 golden disks. Brahmin priests, have been moving these disks in accordance with the immutable rules of Brahma since that time. As soon as the last move of the puzzle is completed, the world will end. The puzzle is therefore is also known as the Tower of Brahma puzzle.\n",
    "\n",
    "If the legend were true, and if the priests were able to move disks at a rate of one per second, using the smallest number of moves it would take them $2^{64}$ − 1 seconds or roughly 585 billion years to finish, which is about 42 times the current age of the universe. \n",
    "\n",
    "#### The Puzzle\n",
    "The Tower of Hanoi is a famous mathematical puzzle. It consists of three rods and a number of disks of different sizes, which can slided onto any rod. Let's say that the rod \"A\" holds all the disks, from largest to smallest, rod \"B\" is an auxiliary rod, and rod \"C\" is a destination rod. The goal of the game is to move all the disks from the rod \"A\" to the rod \"C\", following these simple rules:\n",
    "\n",
    "**1**. Only one disk can be moved at a time.\n",
    "\n",
    "**2**. Each move consists of taking the upper disk from one of the stacks and placing it on the top of another stack or on an empty rod.\n",
    "\n",
    "**3**. No larger disk maybe placed on top of a smaller disk.\n",
    "\n"
   ]
  },
  {
   "cell_type": "markdown",
   "metadata": {},
   "source": [
    "### That is how the disks move in the Tower of Hanoi puzzle !\n",
    "\n",
    "![The Tower of Hanoi Solution Sketch](images/tower-of-hanoi.png)\n"
   ]
  },
  {
   "cell_type": "markdown",
   "metadata": {},
   "source": [
    "#### Recursive Solution Idea\n",
    "\n"
   ]
  },
  {
   "cell_type": "markdown",
   "metadata": {},
   "source": [
    "The tower of Hanoi is one of the main applications of recursion. It says, if you can solve n-1 cases, then you can easily solve the n-th case. The solutions algorithm is as follows:\n",
    "\n",
    "**Base Case:** If n = 1, move the ring from the rod \"A\" to \"C\" using rod \"B\" as spare.\n",
    "\n",
    "**Recursive Case:**<br>\n",
    "-- Move n-1 rings from \"A\" to \"B\" using \"C\" as spare.<br>\n",
    "-- Move 1 ring from \"A\" to \"C\" using \"B\" as spare.<br>\n",
    "-- Move n-1 rings from \"B\" to \"C\" using \"A\" as spare.<br>\n",
    "\n",
    "**Intuition Behind the Solution**<br>\n",
    "1) Suppose we have just one disk on the rod \"C\", hence we need only one move to complete the puzzle.\n",
    "\n",
    "2) Now suppose we have two disks on the rod \"C\". We know how to move one disk from one rod to another, hence we move the first disk to the rod \"B\", the second disk to the rod \"C\", and finally we move the remaining disk from the rod \"B\" to the rod \"C\". We are done!\n",
    "\n",
    "3) Now we have three disks! And we already know, how to move two disks from one rod to another, hence we are moving top two disk from the rod \"A\" to \"B\", then we move the bottom disk to the rod \"C\", and finally we move two disks from the rod \"B\" to \"C\". Done! And so on, we repeat the same procedure for the increasing number of disks.\n"
   ]
  },
  {
   "cell_type": "markdown",
   "metadata": {},
   "source": [
    "**Solution Code: The Hanoi Tower**"
   ]
  },
  {
   "cell_type": "code",
   "execution_count": 8,
   "metadata": {},
   "outputs": [
    {
     "name": "stdout",
     "output_type": "stream",
     "text": [
      "The number of moves required: 31:\n",
      "Move from A to C\n",
      "Move from A to B\n",
      "Move from C to B\n",
      "Move from A to C\n",
      "Move from B to A\n",
      "Move from B to C\n",
      "Move from A to C\n",
      "Move from A to B\n",
      "Move from C to B\n",
      "Move from C to A\n",
      "Move from B to A\n",
      "Move from C to B\n",
      "Move from A to C\n",
      "Move from A to B\n",
      "Move from C to B\n",
      "Move from A to C\n",
      "Move from B to A\n",
      "Move from B to C\n",
      "Move from A to C\n",
      "Move from B to A\n",
      "Move from C to B\n",
      "Move from C to A\n",
      "Move from B to A\n",
      "Move from B to C\n",
      "Move from A to C\n",
      "Move from A to B\n",
      "Move from C to B\n",
      "Move from A to C\n",
      "Move from B to A\n",
      "Move from B to C\n",
      "Move from A to C\n"
     ]
    }
   ],
   "source": [
    "#include <stdio.h>\n",
    "\n",
    "void move(int, char, char, char);\n",
    "long long exp_num(int, int);\n",
    "long long exp_aux(int k, int n, long long res);\n",
    "\n",
    "int main() {\n",
    "    int n;\n",
    "    long long nmoves = 0;\n",
    "    // Number of disks\n",
    "    n = 5;\n",
    "    nmoves = exp_num(2, n) - 1;\n",
    "    printf(\"The number of moves required: %lld:\\n\", nmoves);\n",
    "    move(n, 'A', 'C', 'B');\n",
    "    return 0;\n",
    "}\n",
    "\n",
    "// Tower of Hanoi: Rings moving algorithm\n",
    "void move(int n, char src, char dst, char spr) {\n",
    "    if (n==1) {\n",
    "        printf(\"Move from %c to %c\\n\", src, dst);\n",
    "    }\n",
    "    else {\n",
    "        move(n-1, src, spr, dst);\n",
    "        move(1, src, dst, spr);\n",
    "        move(n-1, spr, dst, src);\n",
    "    }\n",
    "}\n",
    "\n",
    "// Tail-Recursion\n",
    "long long exp_num(int k, int n) {\n",
    "    return exp_aux(k, n, 1);\n",
    "}\n",
    "\n",
    "long long exp_aux(int k, int n, long long res) {\n",
    "    if (n==0) {\n",
    "        return res;\n",
    "    }\n",
    "    else {\n",
    "        return exp_aux(k, n-1, k*res);\n",
    "    }\n",
    "}"
   ]
  }
 ],
 "metadata": {
  "kernelspec": {
   "display_name": "C",
   "language": "c",
   "name": "c"
  },
  "language_info": {
   "file_extension": ".c",
   "mimetype": "text/plain",
   "name": "c"
  }
 },
 "nbformat": 4,
 "nbformat_minor": 2
}
